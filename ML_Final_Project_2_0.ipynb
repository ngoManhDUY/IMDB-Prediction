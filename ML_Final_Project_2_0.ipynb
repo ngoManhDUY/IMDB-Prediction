{
  "cells": [
    {
      "cell_type": "code",
      "execution_count": null,
      "metadata": {
        "id": "Q-GQRpoQC1Jb"
      },
      "outputs": [],
      "source": [
        "import numpy as np\n",
        "import pandas as pd\n",
        "import matplotlib.pyplot as plt\n",
        "from mpl_toolkits.mplot3d import Axes3D\n",
        "from pandas.plotting import scatter_matrix\n",
        "from sklearn.preprocessing import StandardScaler, MinMaxScaler, LabelEncoder, OneHotEncoder\n",
        "from sklearn.decomposition import PCA\n",
        "from sklearn.linear_model import LinearRegression\n",
        "from sklearn.model_selection import KFold, train_test_split, GridSearchCV\n",
        "from sklearn.tree import DecisionTreeRegressor, DecisionTreeClassifier\n",
        "from sklearn.ensemble import RandomForestRegressor\n",
        "from sklearn.neighbors import KNeighborsClassifier\n",
        "from sklearn.metrics import mean_squared_error, classification_report, f1_score,accuracy_score,confusion_matrix,mean_absolute_error\n",
        "import seaborn as sns\n",
        "%matplotlib inline\n"
      ]
    },
    {
      "cell_type": "markdown",
      "metadata": {
        "id": "1kRiA1JuEzwZ"
      },
      "source": [
        "---\n",
        "# Data Cleaning and Preprocessing"
      ]
    },
    {
      "cell_type": "code",
      "execution_count": null,
      "metadata": {
        "colab": {
          "base_uri": "https://localhost:8080/"
        },
        "id": "1ePPzcnUw5Wc",
        "outputId": "77a21861-0dce-4977-9971-9eb54ba25aae"
      },
      "outputs": [
        {
          "output_type": "stream",
          "name": "stdout",
          "text": [
            "<class 'pandas.core.frame.DataFrame'>\n",
            "RangeIndex: 1000 entries, 0 to 999\n",
            "Data columns (total 13 columns):\n",
            " #   Column              Non-Null Count  Dtype  \n",
            "---  ------              --------------  -----  \n",
            " 0   Rank                1000 non-null   int64  \n",
            " 1   Title               1000 non-null   object \n",
            " 2   Genre               1000 non-null   object \n",
            " 3   Description         1000 non-null   object \n",
            " 4   Director            1000 non-null   object \n",
            " 5   Actors              1000 non-null   object \n",
            " 6   Year                1000 non-null   int64  \n",
            " 7   Runtime (Minutes)   1000 non-null   int64  \n",
            " 8   Rating              1000 non-null   float64\n",
            " 9   Votes               1000 non-null   int64  \n",
            " 10  Revenue (Millions)  1000 non-null   float64\n",
            " 11  Metascore           1000 non-null   float64\n",
            " 12  rating_category     1000 non-null   object \n",
            "dtypes: float64(3), int64(4), object(6)\n",
            "memory usage: 101.7+ KB\n"
          ]
        }
      ],
      "source": [
        "data = pd.read_csv(\"updated_data_new.csv\")\n",
        "revenue_mean = data['Revenue (Millions)'].mean()\n",
        "meta_mean = data['Metascore'].mean()\n",
        "data['Revenue (Millions)'].fillna((revenue_mean), inplace=True)\n",
        "data['Metascore'].fillna((revenue_mean), inplace=True)\n",
        "data.info() "
      ]
    },
    {
      "cell_type": "code",
      "execution_count": null,
      "metadata": {
        "colab": {
          "base_uri": "https://localhost:8080/",
          "height": 300
        },
        "id": "gT7buPZXC-6A",
        "outputId": "672db3d4-5030-4232-db18-72ea6d849fc5"
      },
      "outputs": [
        {
          "output_type": "execute_result",
          "data": {
            "text/plain": [
              "              Rank         Year  Runtime (Minutes)       Rating         Votes  \\\n",
              "count  1000.000000  1000.000000        1000.000000  1000.000000  1.000000e+03   \n",
              "mean    500.500000  2012.783000         113.172000     6.723200  1.698083e+05   \n",
              "std     288.819436     3.205962          18.810908     0.945429  1.887626e+05   \n",
              "min       1.000000  2006.000000          66.000000     1.900000  6.100000e+01   \n",
              "25%     250.750000  2010.000000         100.000000     6.200000  3.630900e+04   \n",
              "50%     500.500000  2014.000000         111.000000     6.800000  1.107990e+05   \n",
              "75%     750.250000  2016.000000         123.000000     7.400000  2.399098e+05   \n",
              "max    1000.000000  2016.000000         191.000000     9.000000  1.791916e+06   \n",
              "\n",
              "       Revenue (Millions)    Metascore  \n",
              "count         1000.000000  1000.000000  \n",
              "mean            82.956376    60.519208  \n",
              "std             96.412043    17.640161  \n",
              "min              0.000000    11.000000  \n",
              "25%             17.442500    47.750000  \n",
              "50%             60.375000    61.000000  \n",
              "75%             99.177500    75.000000  \n",
              "max            936.630000   100.000000  "
            ],
            "text/html": [
              "\n",
              "  <div id=\"df-76bc3ef5-28cf-41a0-b47e-e1993c51912b\">\n",
              "    <div class=\"colab-df-container\">\n",
              "      <div>\n",
              "<style scoped>\n",
              "    .dataframe tbody tr th:only-of-type {\n",
              "        vertical-align: middle;\n",
              "    }\n",
              "\n",
              "    .dataframe tbody tr th {\n",
              "        vertical-align: top;\n",
              "    }\n",
              "\n",
              "    .dataframe thead th {\n",
              "        text-align: right;\n",
              "    }\n",
              "</style>\n",
              "<table border=\"1\" class=\"dataframe\">\n",
              "  <thead>\n",
              "    <tr style=\"text-align: right;\">\n",
              "      <th></th>\n",
              "      <th>Rank</th>\n",
              "      <th>Year</th>\n",
              "      <th>Runtime (Minutes)</th>\n",
              "      <th>Rating</th>\n",
              "      <th>Votes</th>\n",
              "      <th>Revenue (Millions)</th>\n",
              "      <th>Metascore</th>\n",
              "    </tr>\n",
              "  </thead>\n",
              "  <tbody>\n",
              "    <tr>\n",
              "      <th>count</th>\n",
              "      <td>1000.000000</td>\n",
              "      <td>1000.000000</td>\n",
              "      <td>1000.000000</td>\n",
              "      <td>1000.000000</td>\n",
              "      <td>1.000000e+03</td>\n",
              "      <td>1000.000000</td>\n",
              "      <td>1000.000000</td>\n",
              "    </tr>\n",
              "    <tr>\n",
              "      <th>mean</th>\n",
              "      <td>500.500000</td>\n",
              "      <td>2012.783000</td>\n",
              "      <td>113.172000</td>\n",
              "      <td>6.723200</td>\n",
              "      <td>1.698083e+05</td>\n",
              "      <td>82.956376</td>\n",
              "      <td>60.519208</td>\n",
              "    </tr>\n",
              "    <tr>\n",
              "      <th>std</th>\n",
              "      <td>288.819436</td>\n",
              "      <td>3.205962</td>\n",
              "      <td>18.810908</td>\n",
              "      <td>0.945429</td>\n",
              "      <td>1.887626e+05</td>\n",
              "      <td>96.412043</td>\n",
              "      <td>17.640161</td>\n",
              "    </tr>\n",
              "    <tr>\n",
              "      <th>min</th>\n",
              "      <td>1.000000</td>\n",
              "      <td>2006.000000</td>\n",
              "      <td>66.000000</td>\n",
              "      <td>1.900000</td>\n",
              "      <td>6.100000e+01</td>\n",
              "      <td>0.000000</td>\n",
              "      <td>11.000000</td>\n",
              "    </tr>\n",
              "    <tr>\n",
              "      <th>25%</th>\n",
              "      <td>250.750000</td>\n",
              "      <td>2010.000000</td>\n",
              "      <td>100.000000</td>\n",
              "      <td>6.200000</td>\n",
              "      <td>3.630900e+04</td>\n",
              "      <td>17.442500</td>\n",
              "      <td>47.750000</td>\n",
              "    </tr>\n",
              "    <tr>\n",
              "      <th>50%</th>\n",
              "      <td>500.500000</td>\n",
              "      <td>2014.000000</td>\n",
              "      <td>111.000000</td>\n",
              "      <td>6.800000</td>\n",
              "      <td>1.107990e+05</td>\n",
              "      <td>60.375000</td>\n",
              "      <td>61.000000</td>\n",
              "    </tr>\n",
              "    <tr>\n",
              "      <th>75%</th>\n",
              "      <td>750.250000</td>\n",
              "      <td>2016.000000</td>\n",
              "      <td>123.000000</td>\n",
              "      <td>7.400000</td>\n",
              "      <td>2.399098e+05</td>\n",
              "      <td>99.177500</td>\n",
              "      <td>75.000000</td>\n",
              "    </tr>\n",
              "    <tr>\n",
              "      <th>max</th>\n",
              "      <td>1000.000000</td>\n",
              "      <td>2016.000000</td>\n",
              "      <td>191.000000</td>\n",
              "      <td>9.000000</td>\n",
              "      <td>1.791916e+06</td>\n",
              "      <td>936.630000</td>\n",
              "      <td>100.000000</td>\n",
              "    </tr>\n",
              "  </tbody>\n",
              "</table>\n",
              "</div>\n",
              "      <button class=\"colab-df-convert\" onclick=\"convertToInteractive('df-76bc3ef5-28cf-41a0-b47e-e1993c51912b')\"\n",
              "              title=\"Convert this dataframe to an interactive table.\"\n",
              "              style=\"display:none;\">\n",
              "        \n",
              "  <svg xmlns=\"http://www.w3.org/2000/svg\" height=\"24px\"viewBox=\"0 0 24 24\"\n",
              "       width=\"24px\">\n",
              "    <path d=\"M0 0h24v24H0V0z\" fill=\"none\"/>\n",
              "    <path d=\"M18.56 5.44l.94 2.06.94-2.06 2.06-.94-2.06-.94-.94-2.06-.94 2.06-2.06.94zm-11 1L8.5 8.5l.94-2.06 2.06-.94-2.06-.94L8.5 2.5l-.94 2.06-2.06.94zm10 10l.94 2.06.94-2.06 2.06-.94-2.06-.94-.94-2.06-.94 2.06-2.06.94z\"/><path d=\"M17.41 7.96l-1.37-1.37c-.4-.4-.92-.59-1.43-.59-.52 0-1.04.2-1.43.59L10.3 9.45l-7.72 7.72c-.78.78-.78 2.05 0 2.83L4 21.41c.39.39.9.59 1.41.59.51 0 1.02-.2 1.41-.59l7.78-7.78 2.81-2.81c.8-.78.8-2.07 0-2.86zM5.41 20L4 18.59l7.72-7.72 1.47 1.35L5.41 20z\"/>\n",
              "  </svg>\n",
              "      </button>\n",
              "      \n",
              "  <style>\n",
              "    .colab-df-container {\n",
              "      display:flex;\n",
              "      flex-wrap:wrap;\n",
              "      gap: 12px;\n",
              "    }\n",
              "\n",
              "    .colab-df-convert {\n",
              "      background-color: #E8F0FE;\n",
              "      border: none;\n",
              "      border-radius: 50%;\n",
              "      cursor: pointer;\n",
              "      display: none;\n",
              "      fill: #1967D2;\n",
              "      height: 32px;\n",
              "      padding: 0 0 0 0;\n",
              "      width: 32px;\n",
              "    }\n",
              "\n",
              "    .colab-df-convert:hover {\n",
              "      background-color: #E2EBFA;\n",
              "      box-shadow: 0px 1px 2px rgba(60, 64, 67, 0.3), 0px 1px 3px 1px rgba(60, 64, 67, 0.15);\n",
              "      fill: #174EA6;\n",
              "    }\n",
              "\n",
              "    [theme=dark] .colab-df-convert {\n",
              "      background-color: #3B4455;\n",
              "      fill: #D2E3FC;\n",
              "    }\n",
              "\n",
              "    [theme=dark] .colab-df-convert:hover {\n",
              "      background-color: #434B5C;\n",
              "      box-shadow: 0px 1px 3px 1px rgba(0, 0, 0, 0.15);\n",
              "      filter: drop-shadow(0px 1px 2px rgba(0, 0, 0, 0.3));\n",
              "      fill: #FFFFFF;\n",
              "    }\n",
              "  </style>\n",
              "\n",
              "      <script>\n",
              "        const buttonEl =\n",
              "          document.querySelector('#df-76bc3ef5-28cf-41a0-b47e-e1993c51912b button.colab-df-convert');\n",
              "        buttonEl.style.display =\n",
              "          google.colab.kernel.accessAllowed ? 'block' : 'none';\n",
              "\n",
              "        async function convertToInteractive(key) {\n",
              "          const element = document.querySelector('#df-76bc3ef5-28cf-41a0-b47e-e1993c51912b');\n",
              "          const dataTable =\n",
              "            await google.colab.kernel.invokeFunction('convertToInteractive',\n",
              "                                                     [key], {});\n",
              "          if (!dataTable) return;\n",
              "\n",
              "          const docLinkHtml = 'Like what you see? Visit the ' +\n",
              "            '<a target=\"_blank\" href=https://colab.research.google.com/notebooks/data_table.ipynb>data table notebook</a>'\n",
              "            + ' to learn more about interactive tables.';\n",
              "          element.innerHTML = '';\n",
              "          dataTable['output_type'] = 'display_data';\n",
              "          await google.colab.output.renderOutput(dataTable, element);\n",
              "          const docLink = document.createElement('div');\n",
              "          docLink.innerHTML = docLinkHtml;\n",
              "          element.appendChild(docLink);\n",
              "        }\n",
              "      </script>\n",
              "    </div>\n",
              "  </div>\n",
              "  "
            ]
          },
          "metadata": {},
          "execution_count": 826
        }
      ],
      "source": [
        "data.describe()"
      ]
    },
    {
      "cell_type": "code",
      "execution_count": null,
      "metadata": {
        "colab": {
          "base_uri": "https://localhost:8080/",
          "height": 511
        },
        "id": "L_tZnmWPxLNS",
        "outputId": "a0e8cf3b-732f-44b1-a47d-ba3f58c9555b"
      },
      "outputs": [
        {
          "output_type": "execute_result",
          "data": {
            "text/plain": [
              "   Rank                    Title      Genre  \\\n",
              "0     1  Guardians of the Galaxy     Action   \n",
              "1     2               Prometheus  Adventure   \n",
              "2     3                    Split     Horror   \n",
              "3     4                     Sing  Animation   \n",
              "4     5            Suicide Squad     Action   \n",
              "\n",
              "                                         Description              Director  \\\n",
              "0  A group of intergalactic criminals are forced ...            James Gunn   \n",
              "1  Following clues to the origin of mankind, a te...          Ridley Scott   \n",
              "2  Three girls are kidnapped by a man with a diag...    M. Night Shyamalan   \n",
              "3  In a city of humanoid animals, a hustling thea...  Christophe Lourdelet   \n",
              "4  A secret government agency recruits some of th...            David Ayer   \n",
              "\n",
              "                                              Actors  Year  Runtime (Minutes)  \\\n",
              "0  Chris Pratt, Vin Diesel, Bradley Cooper, Zoe S...  2014                121   \n",
              "1  Noomi Rapace, Logan Marshall-Green, Michael Fa...  2012                124   \n",
              "2  James McAvoy, Anya Taylor-Joy, Haley Lu Richar...  2016                117   \n",
              "3  Matthew McConaughey,Reese Witherspoon, Seth Ma...  2016                108   \n",
              "4  Will Smith, Jared Leto, Margot Robbie, Viola D...  2016                123   \n",
              "\n",
              "   Rating   Votes  Revenue (Millions)  Metascore rating_category  \n",
              "0     8.1  757074              333.13       76.0            Good  \n",
              "1     7.0  485820              126.46       65.0         Average  \n",
              "2     7.3  157606              138.12       62.0            Good  \n",
              "3     7.2   60545              270.32       59.0         Average  \n",
              "4     6.2  393727              325.02       40.0         Average  "
            ],
            "text/html": [
              "\n",
              "  <div id=\"df-4ee48130-1cee-42e3-ab87-d76e59888ba6\">\n",
              "    <div class=\"colab-df-container\">\n",
              "      <div>\n",
              "<style scoped>\n",
              "    .dataframe tbody tr th:only-of-type {\n",
              "        vertical-align: middle;\n",
              "    }\n",
              "\n",
              "    .dataframe tbody tr th {\n",
              "        vertical-align: top;\n",
              "    }\n",
              "\n",
              "    .dataframe thead th {\n",
              "        text-align: right;\n",
              "    }\n",
              "</style>\n",
              "<table border=\"1\" class=\"dataframe\">\n",
              "  <thead>\n",
              "    <tr style=\"text-align: right;\">\n",
              "      <th></th>\n",
              "      <th>Rank</th>\n",
              "      <th>Title</th>\n",
              "      <th>Genre</th>\n",
              "      <th>Description</th>\n",
              "      <th>Director</th>\n",
              "      <th>Actors</th>\n",
              "      <th>Year</th>\n",
              "      <th>Runtime (Minutes)</th>\n",
              "      <th>Rating</th>\n",
              "      <th>Votes</th>\n",
              "      <th>Revenue (Millions)</th>\n",
              "      <th>Metascore</th>\n",
              "      <th>rating_category</th>\n",
              "    </tr>\n",
              "  </thead>\n",
              "  <tbody>\n",
              "    <tr>\n",
              "      <th>0</th>\n",
              "      <td>1</td>\n",
              "      <td>Guardians of the Galaxy</td>\n",
              "      <td>Action</td>\n",
              "      <td>A group of intergalactic criminals are forced ...</td>\n",
              "      <td>James Gunn</td>\n",
              "      <td>Chris Pratt, Vin Diesel, Bradley Cooper, Zoe S...</td>\n",
              "      <td>2014</td>\n",
              "      <td>121</td>\n",
              "      <td>8.1</td>\n",
              "      <td>757074</td>\n",
              "      <td>333.13</td>\n",
              "      <td>76.0</td>\n",
              "      <td>Good</td>\n",
              "    </tr>\n",
              "    <tr>\n",
              "      <th>1</th>\n",
              "      <td>2</td>\n",
              "      <td>Prometheus</td>\n",
              "      <td>Adventure</td>\n",
              "      <td>Following clues to the origin of mankind, a te...</td>\n",
              "      <td>Ridley Scott</td>\n",
              "      <td>Noomi Rapace, Logan Marshall-Green, Michael Fa...</td>\n",
              "      <td>2012</td>\n",
              "      <td>124</td>\n",
              "      <td>7.0</td>\n",
              "      <td>485820</td>\n",
              "      <td>126.46</td>\n",
              "      <td>65.0</td>\n",
              "      <td>Average</td>\n",
              "    </tr>\n",
              "    <tr>\n",
              "      <th>2</th>\n",
              "      <td>3</td>\n",
              "      <td>Split</td>\n",
              "      <td>Horror</td>\n",
              "      <td>Three girls are kidnapped by a man with a diag...</td>\n",
              "      <td>M. Night Shyamalan</td>\n",
              "      <td>James McAvoy, Anya Taylor-Joy, Haley Lu Richar...</td>\n",
              "      <td>2016</td>\n",
              "      <td>117</td>\n",
              "      <td>7.3</td>\n",
              "      <td>157606</td>\n",
              "      <td>138.12</td>\n",
              "      <td>62.0</td>\n",
              "      <td>Good</td>\n",
              "    </tr>\n",
              "    <tr>\n",
              "      <th>3</th>\n",
              "      <td>4</td>\n",
              "      <td>Sing</td>\n",
              "      <td>Animation</td>\n",
              "      <td>In a city of humanoid animals, a hustling thea...</td>\n",
              "      <td>Christophe Lourdelet</td>\n",
              "      <td>Matthew McConaughey,Reese Witherspoon, Seth Ma...</td>\n",
              "      <td>2016</td>\n",
              "      <td>108</td>\n",
              "      <td>7.2</td>\n",
              "      <td>60545</td>\n",
              "      <td>270.32</td>\n",
              "      <td>59.0</td>\n",
              "      <td>Average</td>\n",
              "    </tr>\n",
              "    <tr>\n",
              "      <th>4</th>\n",
              "      <td>5</td>\n",
              "      <td>Suicide Squad</td>\n",
              "      <td>Action</td>\n",
              "      <td>A secret government agency recruits some of th...</td>\n",
              "      <td>David Ayer</td>\n",
              "      <td>Will Smith, Jared Leto, Margot Robbie, Viola D...</td>\n",
              "      <td>2016</td>\n",
              "      <td>123</td>\n",
              "      <td>6.2</td>\n",
              "      <td>393727</td>\n",
              "      <td>325.02</td>\n",
              "      <td>40.0</td>\n",
              "      <td>Average</td>\n",
              "    </tr>\n",
              "  </tbody>\n",
              "</table>\n",
              "</div>\n",
              "      <button class=\"colab-df-convert\" onclick=\"convertToInteractive('df-4ee48130-1cee-42e3-ab87-d76e59888ba6')\"\n",
              "              title=\"Convert this dataframe to an interactive table.\"\n",
              "              style=\"display:none;\">\n",
              "        \n",
              "  <svg xmlns=\"http://www.w3.org/2000/svg\" height=\"24px\"viewBox=\"0 0 24 24\"\n",
              "       width=\"24px\">\n",
              "    <path d=\"M0 0h24v24H0V0z\" fill=\"none\"/>\n",
              "    <path d=\"M18.56 5.44l.94 2.06.94-2.06 2.06-.94-2.06-.94-.94-2.06-.94 2.06-2.06.94zm-11 1L8.5 8.5l.94-2.06 2.06-.94-2.06-.94L8.5 2.5l-.94 2.06-2.06.94zm10 10l.94 2.06.94-2.06 2.06-.94-2.06-.94-.94-2.06-.94 2.06-2.06.94z\"/><path d=\"M17.41 7.96l-1.37-1.37c-.4-.4-.92-.59-1.43-.59-.52 0-1.04.2-1.43.59L10.3 9.45l-7.72 7.72c-.78.78-.78 2.05 0 2.83L4 21.41c.39.39.9.59 1.41.59.51 0 1.02-.2 1.41-.59l7.78-7.78 2.81-2.81c.8-.78.8-2.07 0-2.86zM5.41 20L4 18.59l7.72-7.72 1.47 1.35L5.41 20z\"/>\n",
              "  </svg>\n",
              "      </button>\n",
              "      \n",
              "  <style>\n",
              "    .colab-df-container {\n",
              "      display:flex;\n",
              "      flex-wrap:wrap;\n",
              "      gap: 12px;\n",
              "    }\n",
              "\n",
              "    .colab-df-convert {\n",
              "      background-color: #E8F0FE;\n",
              "      border: none;\n",
              "      border-radius: 50%;\n",
              "      cursor: pointer;\n",
              "      display: none;\n",
              "      fill: #1967D2;\n",
              "      height: 32px;\n",
              "      padding: 0 0 0 0;\n",
              "      width: 32px;\n",
              "    }\n",
              "\n",
              "    .colab-df-convert:hover {\n",
              "      background-color: #E2EBFA;\n",
              "      box-shadow: 0px 1px 2px rgba(60, 64, 67, 0.3), 0px 1px 3px 1px rgba(60, 64, 67, 0.15);\n",
              "      fill: #174EA6;\n",
              "    }\n",
              "\n",
              "    [theme=dark] .colab-df-convert {\n",
              "      background-color: #3B4455;\n",
              "      fill: #D2E3FC;\n",
              "    }\n",
              "\n",
              "    [theme=dark] .colab-df-convert:hover {\n",
              "      background-color: #434B5C;\n",
              "      box-shadow: 0px 1px 3px 1px rgba(0, 0, 0, 0.15);\n",
              "      filter: drop-shadow(0px 1px 2px rgba(0, 0, 0, 0.3));\n",
              "      fill: #FFFFFF;\n",
              "    }\n",
              "  </style>\n",
              "\n",
              "      <script>\n",
              "        const buttonEl =\n",
              "          document.querySelector('#df-4ee48130-1cee-42e3-ab87-d76e59888ba6 button.colab-df-convert');\n",
              "        buttonEl.style.display =\n",
              "          google.colab.kernel.accessAllowed ? 'block' : 'none';\n",
              "\n",
              "        async function convertToInteractive(key) {\n",
              "          const element = document.querySelector('#df-4ee48130-1cee-42e3-ab87-d76e59888ba6');\n",
              "          const dataTable =\n",
              "            await google.colab.kernel.invokeFunction('convertToInteractive',\n",
              "                                                     [key], {});\n",
              "          if (!dataTable) return;\n",
              "\n",
              "          const docLinkHtml = 'Like what you see? Visit the ' +\n",
              "            '<a target=\"_blank\" href=https://colab.research.google.com/notebooks/data_table.ipynb>data table notebook</a>'\n",
              "            + ' to learn more about interactive tables.';\n",
              "          element.innerHTML = '';\n",
              "          dataTable['output_type'] = 'display_data';\n",
              "          await google.colab.output.renderOutput(dataTable, element);\n",
              "          const docLink = document.createElement('div');\n",
              "          docLink.innerHTML = docLinkHtml;\n",
              "          element.appendChild(docLink);\n",
              "        }\n",
              "      </script>\n",
              "    </div>\n",
              "  </div>\n",
              "  "
            ]
          },
          "metadata": {},
          "execution_count": 827
        }
      ],
      "source": [
        "data.head()"
      ]
    },
    {
      "cell_type": "code",
      "execution_count": null,
      "metadata": {
        "colab": {
          "base_uri": "https://localhost:8080/"
        },
        "id": "zNzkQ3FNy_jJ",
        "outputId": "7a2bc83f-6590-4ee0-d418-7370ccc5afab"
      },
      "outputs": [
        {
          "output_type": "execute_result",
          "data": {
            "text/plain": [
              "array(['Action', 'Adventure', 'Horror', 'Animation', 'Comedy',\n",
              "       'Biography', 'Drama', 'Crime', 'Mystery', 'Thriller'], dtype=object)"
            ]
          },
          "metadata": {},
          "execution_count": 828
        }
      ],
      "source": [
        "data['Genre'].value_counts()\n",
        "data['Genre'].unique()"
      ]
    },
    {
      "cell_type": "code",
      "execution_count": null,
      "metadata": {
        "colab": {
          "base_uri": "https://localhost:8080/"
        },
        "id": "mh4kfkmrMBCe",
        "outputId": "16ecb597-c56b-429f-e5e6-1da01490c245"
      },
      "outputs": [
        {
          "output_type": "execute_result",
          "data": {
            "text/plain": [
              "array([0, 1, 7, 2, 4, 3, 6, 5, 8, 9])"
            ]
          },
          "metadata": {},
          "execution_count": 829
        }
      ],
      "source": [
        "id_Genre = LabelEncoder()\n",
        "data['Genre'] = id_Genre.fit_transform(data['Genre'])\n",
        "data['Genre'].unique()"
      ]
    },
    {
      "cell_type": "code",
      "execution_count": null,
      "metadata": {
        "colab": {
          "base_uri": "https://localhost:8080/",
          "height": 206
        },
        "id": "-3taEcx-NARt",
        "outputId": "d316349f-bc0b-40ce-de2f-1ee00d566290"
      },
      "outputs": [
        {
          "output_type": "execute_result",
          "data": {
            "text/plain": [
              "   Genre  Runtime (Minutes)   Votes  Revenue (Millions)  Metascore\n",
              "0      0                121  757074              333.13       76.0\n",
              "1      1                124  485820              126.46       65.0\n",
              "2      7                117  157606              138.12       62.0\n",
              "3      2                108   60545              270.32       59.0\n",
              "4      0                123  393727              325.02       40.0"
            ],
            "text/html": [
              "\n",
              "  <div id=\"df-32d4b3fa-e1f6-4dee-a4e2-43d5705f7e00\">\n",
              "    <div class=\"colab-df-container\">\n",
              "      <div>\n",
              "<style scoped>\n",
              "    .dataframe tbody tr th:only-of-type {\n",
              "        vertical-align: middle;\n",
              "    }\n",
              "\n",
              "    .dataframe tbody tr th {\n",
              "        vertical-align: top;\n",
              "    }\n",
              "\n",
              "    .dataframe thead th {\n",
              "        text-align: right;\n",
              "    }\n",
              "</style>\n",
              "<table border=\"1\" class=\"dataframe\">\n",
              "  <thead>\n",
              "    <tr style=\"text-align: right;\">\n",
              "      <th></th>\n",
              "      <th>Genre</th>\n",
              "      <th>Runtime (Minutes)</th>\n",
              "      <th>Votes</th>\n",
              "      <th>Revenue (Millions)</th>\n",
              "      <th>Metascore</th>\n",
              "    </tr>\n",
              "  </thead>\n",
              "  <tbody>\n",
              "    <tr>\n",
              "      <th>0</th>\n",
              "      <td>0</td>\n",
              "      <td>121</td>\n",
              "      <td>757074</td>\n",
              "      <td>333.13</td>\n",
              "      <td>76.0</td>\n",
              "    </tr>\n",
              "    <tr>\n",
              "      <th>1</th>\n",
              "      <td>1</td>\n",
              "      <td>124</td>\n",
              "      <td>485820</td>\n",
              "      <td>126.46</td>\n",
              "      <td>65.0</td>\n",
              "    </tr>\n",
              "    <tr>\n",
              "      <th>2</th>\n",
              "      <td>7</td>\n",
              "      <td>117</td>\n",
              "      <td>157606</td>\n",
              "      <td>138.12</td>\n",
              "      <td>62.0</td>\n",
              "    </tr>\n",
              "    <tr>\n",
              "      <th>3</th>\n",
              "      <td>2</td>\n",
              "      <td>108</td>\n",
              "      <td>60545</td>\n",
              "      <td>270.32</td>\n",
              "      <td>59.0</td>\n",
              "    </tr>\n",
              "    <tr>\n",
              "      <th>4</th>\n",
              "      <td>0</td>\n",
              "      <td>123</td>\n",
              "      <td>393727</td>\n",
              "      <td>325.02</td>\n",
              "      <td>40.0</td>\n",
              "    </tr>\n",
              "  </tbody>\n",
              "</table>\n",
              "</div>\n",
              "      <button class=\"colab-df-convert\" onclick=\"convertToInteractive('df-32d4b3fa-e1f6-4dee-a4e2-43d5705f7e00')\"\n",
              "              title=\"Convert this dataframe to an interactive table.\"\n",
              "              style=\"display:none;\">\n",
              "        \n",
              "  <svg xmlns=\"http://www.w3.org/2000/svg\" height=\"24px\"viewBox=\"0 0 24 24\"\n",
              "       width=\"24px\">\n",
              "    <path d=\"M0 0h24v24H0V0z\" fill=\"none\"/>\n",
              "    <path d=\"M18.56 5.44l.94 2.06.94-2.06 2.06-.94-2.06-.94-.94-2.06-.94 2.06-2.06.94zm-11 1L8.5 8.5l.94-2.06 2.06-.94-2.06-.94L8.5 2.5l-.94 2.06-2.06.94zm10 10l.94 2.06.94-2.06 2.06-.94-2.06-.94-.94-2.06-.94 2.06-2.06.94z\"/><path d=\"M17.41 7.96l-1.37-1.37c-.4-.4-.92-.59-1.43-.59-.52 0-1.04.2-1.43.59L10.3 9.45l-7.72 7.72c-.78.78-.78 2.05 0 2.83L4 21.41c.39.39.9.59 1.41.59.51 0 1.02-.2 1.41-.59l7.78-7.78 2.81-2.81c.8-.78.8-2.07 0-2.86zM5.41 20L4 18.59l7.72-7.72 1.47 1.35L5.41 20z\"/>\n",
              "  </svg>\n",
              "      </button>\n",
              "      \n",
              "  <style>\n",
              "    .colab-df-container {\n",
              "      display:flex;\n",
              "      flex-wrap:wrap;\n",
              "      gap: 12px;\n",
              "    }\n",
              "\n",
              "    .colab-df-convert {\n",
              "      background-color: #E8F0FE;\n",
              "      border: none;\n",
              "      border-radius: 50%;\n",
              "      cursor: pointer;\n",
              "      display: none;\n",
              "      fill: #1967D2;\n",
              "      height: 32px;\n",
              "      padding: 0 0 0 0;\n",
              "      width: 32px;\n",
              "    }\n",
              "\n",
              "    .colab-df-convert:hover {\n",
              "      background-color: #E2EBFA;\n",
              "      box-shadow: 0px 1px 2px rgba(60, 64, 67, 0.3), 0px 1px 3px 1px rgba(60, 64, 67, 0.15);\n",
              "      fill: #174EA6;\n",
              "    }\n",
              "\n",
              "    [theme=dark] .colab-df-convert {\n",
              "      background-color: #3B4455;\n",
              "      fill: #D2E3FC;\n",
              "    }\n",
              "\n",
              "    [theme=dark] .colab-df-convert:hover {\n",
              "      background-color: #434B5C;\n",
              "      box-shadow: 0px 1px 3px 1px rgba(0, 0, 0, 0.15);\n",
              "      filter: drop-shadow(0px 1px 2px rgba(0, 0, 0, 0.3));\n",
              "      fill: #FFFFFF;\n",
              "    }\n",
              "  </style>\n",
              "\n",
              "      <script>\n",
              "        const buttonEl =\n",
              "          document.querySelector('#df-32d4b3fa-e1f6-4dee-a4e2-43d5705f7e00 button.colab-df-convert');\n",
              "        buttonEl.style.display =\n",
              "          google.colab.kernel.accessAllowed ? 'block' : 'none';\n",
              "\n",
              "        async function convertToInteractive(key) {\n",
              "          const element = document.querySelector('#df-32d4b3fa-e1f6-4dee-a4e2-43d5705f7e00');\n",
              "          const dataTable =\n",
              "            await google.colab.kernel.invokeFunction('convertToInteractive',\n",
              "                                                     [key], {});\n",
              "          if (!dataTable) return;\n",
              "\n",
              "          const docLinkHtml = 'Like what you see? Visit the ' +\n",
              "            '<a target=\"_blank\" href=https://colab.research.google.com/notebooks/data_table.ipynb>data table notebook</a>'\n",
              "            + ' to learn more about interactive tables.';\n",
              "          element.innerHTML = '';\n",
              "          dataTable['output_type'] = 'display_data';\n",
              "          await google.colab.output.renderOutput(dataTable, element);\n",
              "          const docLink = document.createElement('div');\n",
              "          docLink.innerHTML = docLinkHtml;\n",
              "          element.appendChild(docLink);\n",
              "        }\n",
              "      </script>\n",
              "    </div>\n",
              "  </div>\n",
              "  "
            ]
          },
          "metadata": {},
          "execution_count": 830
        }
      ],
      "source": [
        "X_cls = data.drop([\"Title\",\"Rank\", \"Description\" , \"Director\" , \"Actors\", \"Year\" , \"rating_category\" ], axis=1)\n",
        "y_cls = data[\"rating_category\"]\n",
        "\n",
        "X_reg = data.drop([ \"Title\" ,\"Rank\", \"Description\" , \"Director\" , \"Actors\", \"Year\" , \"rating_category\", \"Rating\" ], axis=1)\n",
        "y_reg =data[\"Rating\"]\n",
        "X_reg.head()"
      ]
    },
    {
      "cell_type": "code",
      "execution_count": null,
      "metadata": {
        "id": "caw8oTt24lx-"
      },
      "outputs": [],
      "source": [
        "#Normalize the data\n",
        "scaler = StandardScaler()\n",
        "X_norm_z = scaler.fit_transform(X_cls)\n",
        "# Split the data into train and test sets\n",
        "X_train_cls, X_test_cls, y_train_cls, y_test_cls = train_test_split(X_norm_z, y_cls, test_size=0.2, random_state=42)\n",
        "X_train_reg, X_test_reg, y_train_reg, y_test_reg = train_test_split(X_reg.values, y_reg.values, test_size=0.2, random_state=42)"
      ]
    },
    {
      "cell_type": "markdown",
      "metadata": {
        "id": "faBOaudLKiXS"
      },
      "source": [
        "# Data Visualization"
      ]
    },
    {
      "cell_type": "markdown",
      "metadata": {
        "id": "sUx515-3SaOy"
      },
      "source": [
        "# Classification Model "
      ]
    },
    {
      "cell_type": "code",
      "execution_count": null,
      "metadata": {
        "colab": {
          "base_uri": "https://localhost:8080/"
        },
        "id": "SPeeqHfFM7Gd",
        "outputId": "1b7ce304-2a8a-4ddb-8828-50fceaa01f60"
      },
      "outputs": [
        {
          "output_type": "stream",
          "name": "stdout",
          "text": [
            "Best number of neighbors: 7\n",
            "F1 score of the best model: 0.80770623492694\n",
            "Accuracy of the best model: 0.81\n"
          ]
        }
      ],
      "source": [
        "# k = 5\n",
        "param_grid = {'n_neighbors': range(1, 15)}\n",
        "knn = KNeighborsClassifier()\n",
        "\n",
        "# perform grid search cross-validation\n",
        "grid_search_5 = GridSearchCV(knn, param_grid, cv=5)\n",
        "grid_search_5.fit(X_train_cls, y_train_cls)\n",
        "\n",
        "# get the best parameter\n",
        "best_n_neighbors_5 = grid_search_5.best_params_['n_neighbors']\n",
        "\n",
        "# create a KNN classifier with the best parameter\n",
        "knn_best_5 = KNeighborsClassifier(n_neighbors=best_n_neighbors_5)\n",
        "knn_best_5.fit(X_train_cls, y_train_cls)\n",
        "\n",
        "# predict the class labels on the test data using the best model\n",
        "y_pred_cls_5 = knn_best_5.predict(X_test_cls)\n",
        "\n",
        "# calculate the F1 score of the best model\n",
        "f1_5 = f1_score(y_test_cls, y_pred_cls_5, average='weighted')\n",
        "accuracy_5 = accuracy_score(y_test_cls, y_pred_cls_5)\n",
        "\n",
        "# print the best parameter and F1 score\n",
        "print(\"Best number of neighbors:\", best_n_neighbors_5)\n",
        "print(\"F1 score of the best model:\", f1_5)\n",
        "print(\"Accuracy of the best model:\", accuracy_5)"
      ]
    },
    {
      "cell_type": "code",
      "execution_count": null,
      "metadata": {
        "colab": {
          "base_uri": "https://localhost:8080/",
          "height": 472
        },
        "id": "_JOQ8Q1d5DAu",
        "outputId": "a2e49555-f757-4531-9369-5d21e5af41a0"
      },
      "outputs": [
        {
          "output_type": "display_data",
          "data": {
            "text/plain": [
              "<Figure size 640x480 with 2 Axes>"
            ],
            "image/png": "[encoded data removed]"
          },
          "metadata": {}
        }
      ],
      "source": [
        "# predict the class labels on the test data using the best model\n",
        "y_pred_cls_5 = knn_best_5.predict(X_test_cls)\n",
        "\n",
        "# create the confusion matrix\n",
        "cm = confusion_matrix(y_test_cls, y_pred_cls_5)\n",
        "\n",
        "# create a heatmap of the confusion matrix\n",
        "sns.heatmap(cm, annot=True, cmap=\"Blues\", fmt=\"d\")\n",
        "\n",
        "# set the axis labels and title\n",
        "plt.xlabel(\"Predicted labels\")\n",
        "plt.ylabel(\"True labels\")\n",
        "plt.title(\"Confusion Matrix of KNN model with cv = 5\")\n",
        "\n",
        "# show the plot\n",
        "plt.show()"
      ]
    },
    {
      "cell_type": "code",
      "execution_count": null,
      "metadata": {
        "colab": {
          "base_uri": "https://localhost:8080/"
        },
        "id": "NxFVfo1Rzvui",
        "outputId": "fc62773b-e318-455e-87e4-1ca04d68d5f6"
      },
      "outputs": [
        {
          "output_type": "stream",
          "name": "stdout",
          "text": [
            "Best number of neighbors: 5\n",
            "F1 score of the best model: 0.8253161849663192\n",
            "Accuracy of the best model: 0.825\n"
          ]
        }
      ],
      "source": [
        "# k = 10\n",
        "grid_search_10 = GridSearchCV(knn, param_grid, cv=10)\n",
        "grid_search_10.fit(X_train_cls, y_train_cls)\n",
        "\n",
        "# get the best parameter\n",
        "best_n_neighbors_10 = grid_search_10.best_params_['n_neighbors']\n",
        "\n",
        "# create a KNN classifier with the best parameter\n",
        "knn_best_10 = KNeighborsClassifier(n_neighbors=best_n_neighbors_10)\n",
        "knn_best_10.fit(X_train_cls, y_train_cls)\n",
        "\n",
        "# predict the class labels on the test data using the best model\n",
        "y_pred_cls_10 = knn_best_10.predict(X_test_cls)\n",
        "\n",
        "# calculate the F1 score of the best model\n",
        "f1_10 = f1_score(y_test_cls, y_pred_cls_10, average='weighted')\n",
        "accuracy_10 = accuracy_score(y_test_cls, y_pred_cls_10)\n",
        "\n",
        "# print the best parameter and F1 score\n",
        "print(\"Best number of neighbors:\", best_n_neighbors_10)\n",
        "print(\"F1 score of the best model:\", f1_10)\n",
        "print(\"Accuracy of the best model:\", accuracy_10)"
      ]
    },
    {
      "cell_type": "code",
      "execution_count": null,
      "metadata": {
        "colab": {
          "base_uri": "https://localhost:8080/",
          "height": 472
        },
        "id": "XcsbPy8R5uc9",
        "outputId": "c4cff65e-fe06-4af9-c53c-fd89a42b8b23"
      },
      "outputs": [
        {
          "output_type": "display_data",
          "data": {
            "text/plain": [
              "<Figure size 640x480 with 2 Axes>"
            ],
            "image/png": "[encoded data removed]"
          },
          "metadata": {}
        }
      ],
      "source": [
        "# predict the class labels on the test data using the best model\n",
        "y_pred_cls_10 = knn_best_10.predict(X_test_cls)\n",
        "\n",
        "# create the confusion matrix\n",
        "cm = confusion_matrix(y_test_cls, y_pred_cls_10)\n",
        "\n",
        "# create a heatmap of the confusion matrix\n",
        "sns.heatmap(cm, annot=True, cmap=\"Blues\", fmt=\"d\")\n",
        "\n",
        "# set the axis labels and title\n",
        "plt.xlabel(\"Predicted labels\")\n",
        "plt.ylabel(\"True labels\")\n",
        "plt.title(\"Confusion Matrix of KNN model with cv = 10\")\n",
        "\n",
        "# show the plot\n",
        "plt.show()"
      ]
    },
    {
      "cell_type": "code",
      "execution_count": null,
      "metadata": {
        "colab": {
          "base_uri": "https://localhost:8080/",
          "height": 472
        },
        "id": "n7oJU7uD02FZ",
        "outputId": "a051bb67-1782-44f9-907b-0956bfd949fe"
      },
      "outputs": [
        {
          "output_type": "display_data",
          "data": {
            "text/plain": [
              "<Figure size 640x480 with 1 Axes>"
            ],
            "image/png": "[encoded data removed]"
          },
          "metadata": {}
        }
      ],
      "source": [
        "# calculate F1 score and accuracy for cv=10 and cv=5\n",
        "f1_scores = [f1_10, f1_5]\n",
        "accuracy_scores = [accuracy_10, accuracy_5]\n",
        "\n",
        "# set the width of the bars\n",
        "bar_width = 0.15\n",
        "\n",
        "# set the positions of the bars on the x-axis\n",
        "r1 = np.arange(len(f1_scores))\n",
        "r2 = [x + bar_width for x in r1]\n",
        "\n",
        "# plot the F1 score and accuracy score for cv=10 and cv=5\n",
        "plt.bar(r1, f1_scores, color='blue', width=bar_width, edgecolor='grey', label='F1 score')\n",
        "plt.bar(r2, accuracy_scores, color='orange', width=bar_width, edgecolor='grey', label='Accuracy score')\n",
        "\n",
        "# add labels, title and legend to the plot\n",
        "plt.xlabel('Cross-validation')\n",
        "plt.ylabel('Score')\n",
        "plt.xticks([r + bar_width/2 for r in range(len(f1_scores))], ['cv=10', 'cv=5'])\n",
        "plt.title('Comparison of performance with different cross-validation')\n",
        "plt.legend()\n",
        "\n",
        "# show the plot\n",
        "plt.show()"
      ]
    },
    {
      "cell_type": "markdown",
      "metadata": {
        "id": "HoWqYcId16zg"
      },
      "source": [
        "with cv = 10, the accuracy and f1-score is a little bit higher than with cv = 5, So i will choose the KNN model with the cross-validation = 10"
      ]
    },
    {
      "cell_type": "markdown",
      "metadata": {
        "id": "3dESZ48y6udW"
      },
      "source": [
        "# Regression Model"
      ]
    },
    {
      "cell_type": "markdown",
      "metadata": {
        "id": "dXFnVSQd8dwL"
      },
      "source": [
        "## Decision Tree"
      ]
    },
    {
      "cell_type": "code",
      "execution_count": null,
      "metadata": {
        "id": "9byx_iQg6vlF"
      },
      "outputs": [],
      "source": [
        "def Evaluation(model, X_test, y_test):\n",
        "    y_pred = model.predict(X_test)\n",
        "\n",
        "    print(\n",
        "        f\"\"\"Test error\n",
        "        {model.__class__.__name__}:\n",
        "        MAE = {mean_absolute_error(y_test, y_pred):.3f}\n",
        "        MSE = {mean_squared_error(y_test, y_pred):.3f}\n",
        "        R^2 = {model.score(X_test,y_test):.3f}\n",
        "        \"\"\"\n",
        "    )"
      ]
    },
    {
      "cell_type": "code",
      "execution_count": null,
      "metadata": {
        "colab": {
          "base_uri": "https://localhost:8080/"
        },
        "id": "xLibx3yO7RMr",
        "outputId": "cfd54f2f-b708-461a-8a7d-3dac88d324b0"
      },
      "outputs": [
        {
          "output_type": "stream",
          "name": "stdout",
          "text": [
            "Test error\n",
            "        DecisionTreeRegressor:\n",
            "        MAE = 0.713\n",
            "        MSE = 0.923\n",
            "        R^2 = 0.037\n",
            "        \n"
          ]
        }
      ],
      "source": [
        "DecisionTree = DecisionTreeRegressor(random_state=42)\n",
        "\n",
        "DecisionTree.fit(X_train_reg, y_train_reg)\n",
        "\n",
        "Evaluation(DecisionTree, X_test_reg, y_test_reg)"
      ]
    },
    {
      "cell_type": "code",
      "execution_count": null,
      "metadata": {
        "colab": {
          "base_uri": "https://localhost:8080/"
        },
        "id": "zTGrEPHA7r0E",
        "outputId": "2ee67c3f-8efd-4b30-cc68-d656bf62acdb"
      },
      "outputs": [
        {
          "output_type": "stream",
          "name": "stdout",
          "text": [
            "{'criterion': 'friedman_mse'}\n",
            "Test error\n",
            "        GridSearchCV:\n",
            "        MAE = 0.706\n",
            "        MSE = 0.911\n",
            "        R^2 = 0.049\n",
            "        \n"
          ]
        }
      ],
      "source": [
        "criterion = ['squared_error', 'friedman_mse', 'absolute_error', 'poisson']\n",
        "param_grid = {'criterion':criterion}\n",
        "\n",
        "DecisionTree = GridSearchCV(DecisionTreeRegressor(random_state=42),\n",
        "                            param_grid=param_grid,\n",
        "                            n_jobs = -1)\n",
        "\n",
        "best_DecisionTree = DecisionTree.fit(X_train_reg, y_train_reg)\n",
        "print(DecisionTree.best_params_)\n",
        "\n",
        "Evaluation(best_DecisionTree, X_test_reg, y_test_reg)"
      ]
    },
    {
      "cell_type": "code",
      "execution_count": null,
      "metadata": {
        "colab": {
          "base_uri": "https://localhost:8080/"
        },
        "id": "1JzUBS418FTW",
        "outputId": "4ac37aa2-055e-4858-8167-54c829955056"
      },
      "outputs": [
        {
          "output_type": "stream",
          "name": "stdout",
          "text": [
            "{'min_samples_leaf': 10}\n",
            "Test error\n",
            "        GridSearchCV:\n",
            "        MAE = 0.561\n",
            "        MSE = 0.583\n",
            "        R^2 = 0.392\n",
            "        \n"
          ]
        }
      ],
      "source": [
        "num_leafs = [5, 10, 50, 100]\n",
        "param_grid = {'min_samples_leaf':num_leafs}\n",
        "\n",
        "DecisionTree = GridSearchCV(DecisionTreeRegressor(random_state=42,\n",
        "                                                  criterion = 'friedman_mse'),\n",
        "                            param_grid=param_grid,\n",
        "                            n_jobs = -1)\n",
        "\n",
        "best_DecisionTree = DecisionTree.fit(X_train_reg, y_train_reg)\n",
        "print(DecisionTree.best_params_)\n",
        "\n",
        "Evaluation(best_DecisionTree, X_test_reg, y_test_reg)"
      ]
    },
    {
      "cell_type": "code",
      "execution_count": null,
      "metadata": {
        "colab": {
          "base_uri": "https://localhost:8080/"
        },
        "id": "L1x7pZ1g8Lj7",
        "outputId": "73142465-6107-4493-a645-306e594803ce"
      },
      "outputs": [
        {
          "output_type": "stream",
          "name": "stdout",
          "text": [
            "{'max_depth': 4}\n",
            "Test error\n",
            "        GridSearchCV:\n",
            "        MAE = 0.570\n",
            "        MSE = 0.598\n",
            "        R^2 = 0.376\n",
            "        \n"
          ]
        }
      ],
      "source": [
        "depths = np.arange(1, 25)\n",
        "\n",
        "param_grid = {'max_depth':depths}\n",
        "\n",
        "DecisionTree = GridSearchCV(DecisionTreeRegressor(random_state=42,\n",
        "                                                  criterion = 'friedman_mse',\n",
        "                                                  min_samples_leaf = 10),\n",
        "                            param_grid=param_grid,\n",
        "                            n_jobs = -1)\n",
        "\n",
        "best_DecisionTree = DecisionTree.fit(X_train_reg, y_train_reg)\n",
        "print(DecisionTree.best_params_)\n",
        "\n",
        "Evaluation(best_DecisionTree, X_test_reg, y_test_reg)"
      ]
    },
    {
      "cell_type": "code",
      "execution_count": null,
      "metadata": {
        "colab": {
          "base_uri": "https://localhost:8080/"
        },
        "id": "70vzV9_s8Qjj",
        "outputId": "6cd88795-39c7-4811-c5e1-d89c62fcbe58"
      },
      "outputs": [
        {
          "output_type": "stream",
          "name": "stdout",
          "text": [
            "Test error\n",
            "        DecisionTreeRegressor:\n",
            "        MAE = 0.561\n",
            "        MSE = 0.583\n",
            "        R^2 = 0.392\n",
            "        \n"
          ]
        }
      ],
      "source": [
        "DecisionTree = DecisionTreeRegressor(random_state=42,\n",
        "                                     criterion = 'friedman_mse',\n",
        "                                     min_samples_leaf = 10)\n",
        "\n",
        "best_DecisionTree = DecisionTree.fit(X_train_reg, y_train_reg)\n",
        "\n",
        "Evaluation(best_DecisionTree, X_test_reg, y_test_reg)"
      ]
    },
    {
      "cell_type": "markdown",
      "metadata": {
        "id": "Y1ycT-fD8lnb"
      },
      "source": [
        "## Random Forest"
      ]
    },
    {
      "cell_type": "code",
      "execution_count": null,
      "metadata": {
        "colab": {
          "base_uri": "https://localhost:8080/"
        },
        "id": "gIeoggya8n01",
        "outputId": "8423a876-c511-4640-dccf-296694edc98a"
      },
      "outputs": [
        {
          "output_type": "stream",
          "name": "stdout",
          "text": [
            "Test error\n",
            "        RandomForestRegressor:\n",
            "        MAE = 0.501\n",
            "        MSE = 0.478\n",
            "        R^2 = 0.501\n",
            "        \n"
          ]
        }
      ],
      "source": [
        "RandomForest = RandomForestRegressor(random_state = 42)\n",
        "RandomForest.fit(X_train_reg, y_train_reg)\n",
        "\n",
        "Evaluation(RandomForest, X_test_reg, y_test_reg)"
      ]
    },
    {
      "cell_type": "code",
      "execution_count": null,
      "metadata": {
        "colab": {
          "base_uri": "https://localhost:8080/"
        },
        "id": "NZtMStZt8twj",
        "outputId": "7f12fa94-ad14-4f6f-e152-297edfa12b46"
      },
      "outputs": [
        {
          "output_type": "stream",
          "name": "stdout",
          "text": [
            "{'n_estimators': 500}\n",
            "Test error\n",
            "        GridSearchCV:\n",
            "        MAE = 0.496\n",
            "        MSE = 0.474\n",
            "        R^2 = 0.506\n",
            "        \n"
          ]
        }
      ],
      "source": [
        "n_estimators = [50, 100, 200, 500]\n",
        "param_grid = {'n_estimators':n_estimators}\n",
        "\n",
        "RandomForest = GridSearchCV(RandomForestRegressor(random_state = 42),\n",
        "                            param_grid,\n",
        "                            n_jobs = -1)\n",
        "best_RandomForest = RandomForest.fit(X_train_reg,y_train_reg)\n",
        "print(RandomForest.best_params_)\n",
        "\n",
        "Evaluation(best_RandomForest, X_test_reg, y_test_reg)"
      ]
    },
    {
      "cell_type": "code",
      "execution_count": null,
      "metadata": {
        "colab": {
          "base_uri": "https://localhost:8080/"
        },
        "id": "udB6x4hX81jL",
        "outputId": "bde19d28-1737-4dba-d551-8c074b234fae"
      },
      "outputs": [
        {
          "output_type": "stream",
          "name": "stdout",
          "text": [
            "{'max_depth': 6}\n",
            "Test error\n",
            "        GridSearchCV:\n",
            "        MAE = 0.490\n",
            "        MSE = 0.465\n",
            "        R^2 = 0.515\n",
            "        \n"
          ]
        }
      ],
      "source": [
        "depths = np.arange(1, 21)\n",
        "param_grid = {'max_depth':depths}\n",
        "\n",
        "RandomForest = GridSearchCV(RandomForestRegressor(random_state = 42,\n",
        "                                                  n_estimators = 500),\n",
        "                            param_grid,\n",
        "                            n_jobs = -1)\n",
        "best_RandomForest = RandomForest.fit(X_train_reg,y_train_reg)\n",
        "print(RandomForest.best_params_)\n",
        "\n",
        "Evaluation(best_RandomForest, X_test_reg, y_test_reg)"
      ]
    },
    {
      "cell_type": "code",
      "execution_count": null,
      "metadata": {
        "colab": {
          "base_uri": "https://localhost:8080/"
        },
        "id": "fMRKe2xt86O7",
        "outputId": "85aaeae4-b5ab-41a4-c3a1-aea69ca99af9"
      },
      "outputs": [
        {
          "output_type": "stream",
          "name": "stdout",
          "text": [
            "{'min_samples_leaf': 5}\n",
            "Test error\n",
            "        GridSearchCV:\n",
            "        MAE = 0.486\n",
            "        MSE = 0.459\n",
            "        R^2 = 0.521\n",
            "        \n"
          ]
        }
      ],
      "source": [
        "num_leafs = [5, 10, 50, 100]\n",
        "param_grid = {'min_samples_leaf':num_leafs}\n",
        "\n",
        "RandomForest = GridSearchCV(RandomForestRegressor(random_state = 42,\n",
        "                                                  n_estimators = 500,\n",
        "                                                  max_depth = 6),\n",
        "                            param_grid,\n",
        "                            n_jobs = -1)\n",
        "best_RandomForest = RandomForest.fit(X_train_reg,y_train_reg)\n",
        "print(RandomForest.best_params_)\n",
        "\n",
        "Evaluation(best_RandomForest, X_test_reg, y_test_reg)"
      ]
    },
    {
      "cell_type": "code",
      "execution_count": null,
      "metadata": {
        "id": "w4YLQEUe8-y8",
        "colab": {
          "base_uri": "https://localhost:8080/"
        },
        "outputId": "c9747f8f-b153-4882-83ab-a5c59ecd09fe"
      },
      "outputs": [
        {
          "output_type": "stream",
          "name": "stdout",
          "text": [
            "Test error\n",
            "        RandomForestRegressor:\n",
            "        MAE = 0.486\n",
            "        MSE = 0.459\n",
            "        R^2 = 0.521\n",
            "        \n"
          ]
        }
      ],
      "source": [
        "RandomForest = RandomForestRegressor(random_state = 42,\n",
        "                                     n_estimators = 500,\n",
        "                                     max_depth = 6,\n",
        "                                     min_samples_leaf = 5,\n",
        "                                     n_jobs = -1)\n",
        "\n",
        "best_RandomForest = RandomForest.fit(X_train_reg,y_train_reg)\n",
        "\n",
        "Evaluation(best_RandomForest, X_test_reg, y_test_reg)"
      ]
    },
    {
      "cell_type": "markdown",
      "metadata": {
        "id": "URmEmByj9UAK"
      },
      "source": [
        "## Model Evaluation:"
      ]
    },
    {
      "cell_type": "code",
      "execution_count": null,
      "metadata": {
        "colab": {
          "base_uri": "https://localhost:8080/",
          "height": 206
        },
        "id": "URxrXsp_9Xkq",
        "outputId": "dd42c41f-6317-469f-ad3f-997f054d0b2e"
      },
      "outputs": [
        {
          "output_type": "execute_result",
          "data": {
            "text/plain": [
              "   Decision Tree  Radom Forest  True Value\n",
              "0       6.666667      6.560868         5.3\n",
              "1       7.135294      6.805487         7.1\n",
              "2       6.073684      6.174553         5.4\n",
              "3       6.875000      7.037910         7.0\n",
              "4       6.875000      6.802708         6.5"
            ],
            "text/html": [
              "\n",
              "  <div id=\"df-92e3716b-b34a-497b-9290-0d540834d6b4\">\n",
              "    <div class=\"colab-df-container\">\n",
              "      <div>\n",
              "<style scoped>\n",
              "    .dataframe tbody tr th:only-of-type {\n",
              "        vertical-align: middle;\n",
              "    }\n",
              "\n",
              "    .dataframe tbody tr th {\n",
              "        vertical-align: top;\n",
              "    }\n",
              "\n",
              "    .dataframe thead th {\n",
              "        text-align: right;\n",
              "    }\n",
              "</style>\n",
              "<table border=\"1\" class=\"dataframe\">\n",
              "  <thead>\n",
              "    <tr style=\"text-align: right;\">\n",
              "      <th></th>\n",
              "      <th>Decision Tree</th>\n",
              "      <th>Radom Forest</th>\n",
              "      <th>True Value</th>\n",
              "    </tr>\n",
              "  </thead>\n",
              "  <tbody>\n",
              "    <tr>\n",
              "      <th>0</th>\n",
              "      <td>6.666667</td>\n",
              "      <td>6.560868</td>\n",
              "      <td>5.3</td>\n",
              "    </tr>\n",
              "    <tr>\n",
              "      <th>1</th>\n",
              "      <td>7.135294</td>\n",
              "      <td>6.805487</td>\n",
              "      <td>7.1</td>\n",
              "    </tr>\n",
              "    <tr>\n",
              "      <th>2</th>\n",
              "      <td>6.073684</td>\n",
              "      <td>6.174553</td>\n",
              "      <td>5.4</td>\n",
              "    </tr>\n",
              "    <tr>\n",
              "      <th>3</th>\n",
              "      <td>6.875000</td>\n",
              "      <td>7.037910</td>\n",
              "      <td>7.0</td>\n",
              "    </tr>\n",
              "    <tr>\n",
              "      <th>4</th>\n",
              "      <td>6.875000</td>\n",
              "      <td>6.802708</td>\n",
              "      <td>6.5</td>\n",
              "    </tr>\n",
              "  </tbody>\n",
              "</table>\n",
              "</div>\n",
              "      <button class=\"colab-df-convert\" onclick=\"convertToInteractive('df-92e3716b-b34a-497b-9290-0d540834d6b4')\"\n",
              "              title=\"Convert this dataframe to an interactive table.\"\n",
              "              style=\"display:none;\">\n",
              "        \n",
              "  <svg xmlns=\"http://www.w3.org/2000/svg\" height=\"24px\"viewBox=\"0 0 24 24\"\n",
              "       width=\"24px\">\n",
              "    <path d=\"M0 0h24v24H0V0z\" fill=\"none\"/>\n",
              "    <path d=\"M18.56 5.44l.94 2.06.94-2.06 2.06-.94-2.06-.94-.94-2.06-.94 2.06-2.06.94zm-11 1L8.5 8.5l.94-2.06 2.06-.94-2.06-.94L8.5 2.5l-.94 2.06-2.06.94zm10 10l.94 2.06.94-2.06 2.06-.94-2.06-.94-.94-2.06-.94 2.06-2.06.94z\"/><path d=\"M17.41 7.96l-1.37-1.37c-.4-.4-.92-.59-1.43-.59-.52 0-1.04.2-1.43.59L10.3 9.45l-7.72 7.72c-.78.78-.78 2.05 0 2.83L4 21.41c.39.39.9.59 1.41.59.51 0 1.02-.2 1.41-.59l7.78-7.78 2.81-2.81c.8-.78.8-2.07 0-2.86zM5.41 20L4 18.59l7.72-7.72 1.47 1.35L5.41 20z\"/>\n",
              "  </svg>\n",
              "      </button>\n",
              "      \n",
              "  <style>\n",
              "    .colab-df-container {\n",
              "      display:flex;\n",
              "      flex-wrap:wrap;\n",
              "      gap: 12px;\n",
              "    }\n",
              "\n",
              "    .colab-df-convert {\n",
              "      background-color: #E8F0FE;\n",
              "      border: none;\n",
              "      border-radius: 50%;\n",
              "      cursor: pointer;\n",
              "      display: none;\n",
              "      fill: #1967D2;\n",
              "      height: 32px;\n",
              "      padding: 0 0 0 0;\n",
              "      width: 32px;\n",
              "    }\n",
              "\n",
              "    .colab-df-convert:hover {\n",
              "      background-color: #E2EBFA;\n",
              "      box-shadow: 0px 1px 2px rgba(60, 64, 67, 0.3), 0px 1px 3px 1px rgba(60, 64, 67, 0.15);\n",
              "      fill: #174EA6;\n",
              "    }\n",
              "\n",
              "    [theme=dark] .colab-df-convert {\n",
              "      background-color: #3B4455;\n",
              "      fill: #D2E3FC;\n",
              "    }\n",
              "\n",
              "    [theme=dark] .colab-df-convert:hover {\n",
              "      background-color: #434B5C;\n",
              "      box-shadow: 0px 1px 3px 1px rgba(0, 0, 0, 0.15);\n",
              "      filter: drop-shadow(0px 1px 2px rgba(0, 0, 0, 0.3));\n",
              "      fill: #FFFFFF;\n",
              "    }\n",
              "  </style>\n",
              "\n",
              "      <script>\n",
              "        const buttonEl =\n",
              "          document.querySelector('#df-92e3716b-b34a-497b-9290-0d540834d6b4 button.colab-df-convert');\n",
              "        buttonEl.style.display =\n",
              "          google.colab.kernel.accessAllowed ? 'block' : 'none';\n",
              "\n",
              "        async function convertToInteractive(key) {\n",
              "          const element = document.querySelector('#df-92e3716b-b34a-497b-9290-0d540834d6b4');\n",
              "          const dataTable =\n",
              "            await google.colab.kernel.invokeFunction('convertToInteractive',\n",
              "                                                     [key], {});\n",
              "          if (!dataTable) return;\n",
              "\n",
              "          const docLinkHtml = 'Like what you see? Visit the ' +\n",
              "            '<a target=\"_blank\" href=https://colab.research.google.com/notebooks/data_table.ipynb>data table notebook</a>'\n",
              "            + ' to learn more about interactive tables.';\n",
              "          element.innerHTML = '';\n",
              "          dataTable['output_type'] = 'display_data';\n",
              "          await google.colab.output.renderOutput(dataTable, element);\n",
              "          const docLink = document.createElement('div');\n",
              "          docLink.innerHTML = docLinkHtml;\n",
              "          element.appendChild(docLink);\n",
              "        }\n",
              "      </script>\n",
              "    </div>\n",
              "  </div>\n",
              "  "
            ]
          },
          "metadata": {},
          "execution_count": 848
        }
      ],
      "source": [
        "y_predDT = best_DecisionTree.predict(X_test_reg)\n",
        "y_predRF = best_RandomForest.predict(X_test_reg)\n",
        "\n",
        "pred_test = np.array([y_predDT,y_predRF,y_test_reg]).T\n",
        "pd.DataFrame(pred_test,columns=['Decision Tree','Radom Forest','True Value']).head()"
      ]
    },
    {
      "cell_type": "code",
      "execution_count": null,
      "metadata": {
        "colab": {
          "base_uri": "https://localhost:8080/",
          "height": 81
        },
        "id": "LPVhVZPM9dzC",
        "outputId": "e160126f-ed6a-4b06-ad15-29b6b644b6aa"
      },
      "outputs": [
        {
          "output_type": "execute_result",
          "data": {
            "text/plain": [
              "   Decision Tree  Radom Forest  True Value\n",
              "0           8.35      8.090513         8.1"
            ],
            "text/html": [
              "\n",
              "  <div id=\"df-cdd8e005-348e-435f-a560-b0329f30e2c0\">\n",
              "    <div class=\"colab-df-container\">\n",
              "      <div>\n",
              "<style scoped>\n",
              "    .dataframe tbody tr th:only-of-type {\n",
              "        vertical-align: middle;\n",
              "    }\n",
              "\n",
              "    .dataframe tbody tr th {\n",
              "        vertical-align: top;\n",
              "    }\n",
              "\n",
              "    .dataframe thead th {\n",
              "        text-align: right;\n",
              "    }\n",
              "</style>\n",
              "<table border=\"1\" class=\"dataframe\">\n",
              "  <thead>\n",
              "    <tr style=\"text-align: right;\">\n",
              "      <th></th>\n",
              "      <th>Decision Tree</th>\n",
              "      <th>Radom Forest</th>\n",
              "      <th>True Value</th>\n",
              "    </tr>\n",
              "  </thead>\n",
              "  <tbody>\n",
              "    <tr>\n",
              "      <th>0</th>\n",
              "      <td>8.35</td>\n",
              "      <td>8.090513</td>\n",
              "      <td>8.1</td>\n",
              "    </tr>\n",
              "  </tbody>\n",
              "</table>\n",
              "</div>\n",
              "      <button class=\"colab-df-convert\" onclick=\"convertToInteractive('df-cdd8e005-348e-435f-a560-b0329f30e2c0')\"\n",
              "              title=\"Convert this dataframe to an interactive table.\"\n",
              "              style=\"display:none;\">\n",
              "        \n",
              "  <svg xmlns=\"http://www.w3.org/2000/svg\" height=\"24px\"viewBox=\"0 0 24 24\"\n",
              "       width=\"24px\">\n",
              "    <path d=\"M0 0h24v24H0V0z\" fill=\"none\"/>\n",
              "    <path d=\"M18.56 5.44l.94 2.06.94-2.06 2.06-.94-2.06-.94-.94-2.06-.94 2.06-2.06.94zm-11 1L8.5 8.5l.94-2.06 2.06-.94-2.06-.94L8.5 2.5l-.94 2.06-2.06.94zm10 10l.94 2.06.94-2.06 2.06-.94-2.06-.94-.94-2.06-.94 2.06-2.06.94z\"/><path d=\"M17.41 7.96l-1.37-1.37c-.4-.4-.92-.59-1.43-.59-.52 0-1.04.2-1.43.59L10.3 9.45l-7.72 7.72c-.78.78-.78 2.05 0 2.83L4 21.41c.39.39.9.59 1.41.59.51 0 1.02-.2 1.41-.59l7.78-7.78 2.81-2.81c.8-.78.8-2.07 0-2.86zM5.41 20L4 18.59l7.72-7.72 1.47 1.35L5.41 20z\"/>\n",
              "  </svg>\n",
              "      </button>\n",
              "      \n",
              "  <style>\n",
              "    .colab-df-container {\n",
              "      display:flex;\n",
              "      flex-wrap:wrap;\n",
              "      gap: 12px;\n",
              "    }\n",
              "\n",
              "    .colab-df-convert {\n",
              "      background-color: #E8F0FE;\n",
              "      border: none;\n",
              "      border-radius: 50%;\n",
              "      cursor: pointer;\n",
              "      display: none;\n",
              "      fill: #1967D2;\n",
              "      height: 32px;\n",
              "      padding: 0 0 0 0;\n",
              "      width: 32px;\n",
              "    }\n",
              "\n",
              "    .colab-df-convert:hover {\n",
              "      background-color: #E2EBFA;\n",
              "      box-shadow: 0px 1px 2px rgba(60, 64, 67, 0.3), 0px 1px 3px 1px rgba(60, 64, 67, 0.15);\n",
              "      fill: #174EA6;\n",
              "    }\n",
              "\n",
              "    [theme=dark] .colab-df-convert {\n",
              "      background-color: #3B4455;\n",
              "      fill: #D2E3FC;\n",
              "    }\n",
              "\n",
              "    [theme=dark] .colab-df-convert:hover {\n",
              "      background-color: #434B5C;\n",
              "      box-shadow: 0px 1px 3px 1px rgba(0, 0, 0, 0.15);\n",
              "      filter: drop-shadow(0px 1px 2px rgba(0, 0, 0, 0.3));\n",
              "      fill: #FFFFFF;\n",
              "    }\n",
              "  </style>\n",
              "\n",
              "      <script>\n",
              "        const buttonEl =\n",
              "          document.querySelector('#df-cdd8e005-348e-435f-a560-b0329f30e2c0 button.colab-df-convert');\n",
              "        buttonEl.style.display =\n",
              "          google.colab.kernel.accessAllowed ? 'block' : 'none';\n",
              "\n",
              "        async function convertToInteractive(key) {\n",
              "          const element = document.querySelector('#df-cdd8e005-348e-435f-a560-b0329f30e2c0');\n",
              "          const dataTable =\n",
              "            await google.colab.kernel.invokeFunction('convertToInteractive',\n",
              "                                                     [key], {});\n",
              "          if (!dataTable) return;\n",
              "\n",
              "          const docLinkHtml = 'Like what you see? Visit the ' +\n",
              "            '<a target=\"_blank\" href=https://colab.research.google.com/notebooks/data_table.ipynb>data table notebook</a>'\n",
              "            + ' to learn more about interactive tables.';\n",
              "          element.innerHTML = '';\n",
              "          dataTable['output_type'] = 'display_data';\n",
              "          await google.colab.output.renderOutput(dataTable, element);\n",
              "          const docLink = document.createElement('div');\n",
              "          docLink.innerHTML = docLinkHtml;\n",
              "          element.appendChild(docLink);\n",
              "        }\n",
              "      </script>\n",
              "    </div>\n",
              "  </div>\n",
              "  "
            ]
          },
          "metadata": {},
          "execution_count": 849
        }
      ],
      "source": [
        "predict = np.array([0,120,757000,333,75]).reshape(1,-1) # Close to Movie Guardians of the Galaxy which have 8.1 IMDB Score\n",
        "\n",
        "DT_pred = best_DecisionTree.predict(predict)\n",
        "RF_pred = best_RandomForest.predict(predict)\n",
        "\n",
        "pred = np.array([DT_pred,RF_pred,[8.1]]).T\n",
        "pd.DataFrame(pred,columns=['Decision Tree','Radom Forest','True Value'])"
      ]
    },
    {
      "cell_type": "code",
      "execution_count": null,
      "metadata": {
        "colab": {
          "base_uri": "https://localhost:8080/"
        },
        "id": "sq0Of_BLAPz5",
        "outputId": "460477ee-429b-4132-a0d2-92e440679b2f"
      },
      "outputs": [
        {
          "output_type": "stream",
          "name": "stdout",
          "text": [
            "The predicted IMDB score is: 8.09051250530917\n",
            "And the movie is:  Good\n"
          ]
        }
      ],
      "source": [
        "z = np.array([['Action', 120 ,757000 ,333, 75]])\n",
        "z[ :,0] = id_Genre.transform(z[ :,0])\n",
        "z = z.astype(float)\n",
        "l = np.array([['Action', 120 ,757000 ,333, 75, 8.1]])\n",
        "l[ :,0] = id_Genre.transform(l[ :,0])\n",
        "l = l.astype(float)\n",
        "\n",
        "# Make the prediction using the trained model\n",
        "prediction = RandomForest.predict(z)\n",
        "\n",
        "pre = knn_best_10.predict(l)\n",
        "print(\"The predicted IMDB score is:\", prediction[0])\n",
        "print(\"And the movie is: \",pre[0])"
      ]
    },
    {
      "cell_type": "markdown",
      "metadata": {
        "id": "xcj6gz2u9h0z"
      },
      "source": [
        "We can see that 2 models predict are pretty good. Therefore, even the error and R^2 score of Random Forest model is better than Decision Tree model so we will use Random Forest model"
      ]
    },
    {
      "cell_type": "markdown",
      "metadata": {
        "id": "Jb6_7Pqn-ugD"
      },
      "source": [
        "# Saving Model "
      ]
    },
    {
      "cell_type": "code",
      "execution_count": null,
      "metadata": {
        "id": "koaJ3QcF-1CE"
      },
      "outputs": [],
      "source": [
        "import pickle"
      ]
    },
    {
      "cell_type": "code",
      "source": [
        "data = {\"model1\": best_RandomForest , \"model2\" : knn_best_10, \"id_Genre\": id_Genre} \n",
        "with open(\"Save_model.pkl\", 'wb' ) as file:\n",
        "  pickle.dump(data,file)"
      ],
      "metadata": {
        "id": "YSqTa8scTgAy"
      },
      "execution_count": null,
      "outputs": []
    },
    {
      "cell_type": "code",
      "source": [
        "with open(\"Save_model.pkl\", 'rb' ) as file:\n",
        "        data = pickle.load(file)"
      ],
      "metadata": {
        "id": "_AaAfVxUVPRl"
      },
      "execution_count": null,
      "outputs": []
    }
  ],
  "metadata": {
    "colab": {
      "provenance": []
    },
    "kernelspec": {
      "display_name": "Python 3",
      "name": "python3"
    },
    "language_info": {
      "name": "python"
    }
  },
  "nbformat": 4,
  "nbformat_minor": 0
}